{
 "cells": [
  {
   "cell_type": "code",
   "execution_count": 1,
   "metadata": {},
   "outputs": [],
   "source": [
    "from google_drive_downloader import GoogleDriveDownloader as gdd\n",
    "from zipfile import ZipFile\n",
    "import os\n",
    "from PIL import Image"
   ]
  },
  {
   "cell_type": "code",
   "execution_count": 2,
   "metadata": {},
   "outputs": [],
   "source": [
    "def extractDriveZipJPG(driveID, destPath, extractedFilesDir, newDir):\n",
    "    gdd.download_file_from_google_drive(file_id = driveID, dest_path = destPath)\n",
    "    with ZipFile(destPath, 'r') as zipObj:\n",
    "       zipObj.extractall(path = extractedFilesDir)\n",
    "    fileList = os.listdir(extractedFilesDir)\n",
    "    i = 0\n",
    "    for file in fileList:\n",
    "        if [file[-4], file[-3], file[-2], file[-1]] == ['.', 'j', 'p', 'g']:\n",
    "            Image.open(extractedFilesDir + '/' + file)\\\n",
    "            .save(newDir + '/extracted_' + str(i) + '_' + file)\n",
    "            i += 1\n",
    "        else:\n",
    "            for char in file:\n",
    "                isFolder = True\n",
    "                if char == '.':\n",
    "                    isFolder = False\n",
    "                    break\n",
    "            if isFolder == True:\n",
    "                newList = os.listdir(extractedFilesDir + '/' + file)\n",
    "                for newFile in newList:\n",
    "                    if [newFile[-4], newFile[-3], newFile[-2], newFile[-1]] == ['.', 'j', 'p', 'g']:\n",
    "                        Image.open(extractedFilesDir + '/' + file + '/' + newFile)\\\n",
    "                        .save(newDir + '/extracted_' + str(i) + '_' + newFile)\n",
    "                        i += 1"
   ]
  },
  {
   "cell_type": "code",
   "execution_count": 3,
   "metadata": {},
   "outputs": [],
   "source": [
    "myID = '1DwYZhRJXTW36I0exFJWgIWjZxN_oVlhu'"
   ]
  },
  {
   "cell_type": "code",
   "execution_count": 4,
   "metadata": {},
   "outputs": [],
   "source": [
    "myPath = '/home/sean/Downloads/testFile.zip'"
   ]
  },
  {
   "cell_type": "code",
   "execution_count": 5,
   "metadata": {},
   "outputs": [],
   "source": [
    "myExtractedFilesDir = '/home/sean/stuff'"
   ]
  },
  {
   "cell_type": "code",
   "execution_count": 6,
   "metadata": {},
   "outputs": [],
   "source": [
    "myDir = '/home/sean/savedPics'"
   ]
  },
  {
   "cell_type": "code",
   "execution_count": 7,
   "metadata": {},
   "outputs": [],
   "source": [
    "extractDriveZipJPG(myID, myPath, myExtractedFilesDir, myDir)"
   ]
  },
  {
   "cell_type": "code",
   "execution_count": null,
   "metadata": {},
   "outputs": [],
   "source": []
  }
 ],
 "metadata": {
  "kernelspec": {
   "display_name": "Python 3",
   "language": "python",
   "name": "python3"
  },
  "language_info": {
   "codemirror_mode": {
    "name": "ipython",
    "version": 3
   },
   "file_extension": ".py",
   "mimetype": "text/x-python",
   "name": "python",
   "nbconvert_exporter": "python",
   "pygments_lexer": "ipython3",
   "version": "3.7.3"
  }
 },
 "nbformat": 4,
 "nbformat_minor": 2
}
